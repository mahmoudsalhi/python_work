{
 "cells": [
  {
   "cell_type": "code",
   "execution_count": 5,
   "id": "34047b2b",
   "metadata": {},
   "outputs": [],
   "source": [
    "import random"
   ]
  },
  {
   "cell_type": "code",
   "execution_count": null,
   "id": "f6b7221a",
   "metadata": {},
   "outputs": [
    {
     "name": "stdout",
     "output_type": "stream",
     "text": [
      "Hello sir , would you like to play a game ? (answer with yes or no)\n"
     ]
    }
   ],
   "source": [
    "print(\"Hello sir , would you like to play a game ? (answer with 'yes' or 'no')\")\n",
    "\n",
    "a=input(\"anwser : \")\n",
    "\n",
    "if a==\"yes\":\n",
    "    y=random.randint(1,100)\n",
    "    print(\"okay , so basically the game is to guess number between 1 and 100. It will provides you feedback if your guess is too high or too low until you correctly guess the number ? so , guess a number mate \")\n",
    "    x=int(input(\"number = \"))\n",
    "    if x==y:\n",
    "            print(\"you won! \\n\")\n",
    "    else:\n",
    "        while x!=y:\n",
    "                if abs(x-y)>15 and x<y:\n",
    "                        print(\"Your guess is too low. Guess again.\")\n",
    "                elif abs(x-y)<=15 and x<y:\n",
    "                        print(\"You're very close. try a bigger number.\")\n",
    "                elif abs(x-y)>15 and x>y:\n",
    "                        print(\"Your guess is too high. Guess again\")\n",
    "                elif abs(x-y)<=15 and x>y:\n",
    "                        print(\"You're very close. try a smaller number.\")\n",
    "                x=int(input(\"number =\"))\n",
    "        print(\"good job! you won \\n\")\n",
    "else:\n",
    "    print(\"okay, see you later! \\n\")\n",
    "        "
   ]
  },
  {
   "cell_type": "code",
   "execution_count": null,
   "id": "7acf92d3",
   "metadata": {},
   "outputs": [],
   "source": []
  }
 ],
 "metadata": {
  "kernelspec": {
   "display_name": "Python 3 (ipykernel)",
   "language": "python",
   "name": "python3"
  },
  "language_info": {
   "codemirror_mode": {
    "name": "ipython",
    "version": 3
   },
   "file_extension": ".py",
   "mimetype": "text/x-python",
   "name": "python",
   "nbconvert_exporter": "python",
   "pygments_lexer": "ipython3",
   "version": "3.10.9"
  }
 },
 "nbformat": 4,
 "nbformat_minor": 5
}

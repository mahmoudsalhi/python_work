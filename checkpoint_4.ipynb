{
 "cells": [
  {
   "cell_type": "code",
   "execution_count": 6,
   "id": "eb9a717f",
   "metadata": {},
   "outputs": [
    {
     "name": "stdout",
     "output_type": "stream",
     "text": [
      "my point is (1, 2, 3)\n"
     ]
    }
   ],
   "source": [
    "#question 1\n",
    "class Point3D:\n",
    "    def __init__(self,x,y,z):\n",
    "        self.x=x\n",
    "        self.y=y\n",
    "        self.z=z\n",
    "    \n",
    "    def get_x_y_z(self):\n",
    "        return self.x,self.y,self.z\n",
    "\n",
    "my_point=Point3D(1,2,3)\n",
    "print(f\"my point is {my_point.get_x_y_z()}\")\n"
   ]
  },
  {
   "cell_type": "code",
   "execution_count": 7,
   "id": "ce5c2e32",
   "metadata": {},
   "outputs": [
    {
     "name": "stdout",
     "output_type": "stream",
     "text": [
      "area =12 and perimeter=14\n"
     ]
    }
   ],
   "source": [
    "#question 2\n",
    "class Rectangle:\n",
    "    def __init__(self,length,width):\n",
    "        self.l=length\n",
    "        self.w=width\n",
    "    def area(self):\n",
    "        return self.l*self.w\n",
    "    def perimeter(self):\n",
    "        return (self.l+self.w)*2\n",
    "\n",
    "        \n",
    "my_rectangle=Rectangle(4,3)\n",
    "area=my_rectangle.area()\n",
    "perimeter=my_rectangle.perimeter()\n",
    "print(f\"area ={area} and perimeter={perimeter}\")\n"
   ]
  },
  {
   "cell_type": "code",
   "execution_count": 16,
   "id": "86479b85",
   "metadata": {},
   "outputs": [
    {
     "name": "stdout",
     "output_type": "stream",
     "text": [
      "area = 28.274333882308138 and perimeter =9.42477796076938\n",
      "a is inside the circle\n"
     ]
    }
   ],
   "source": [
    "#question 3\n",
    "from math import pi,sqrt\n",
    "class Circle:\n",
    "    def __init__(self,center_x,center_y,radius):\n",
    "        self.center_x=center_x\n",
    "        self.center_y=center_y\n",
    "        self.radius=radius\n",
    "    def area(self):\n",
    "        return pi*(self.radius**2)\n",
    "    def perimeter(self):\n",
    "        return pi*self.radius\n",
    "    def Inside(self,x,y):\n",
    "        dist=sqrt(((x-self.center_x)**2)+((y-self.center_y)**2))\n",
    "        if dist<=self.radius:\n",
    "            print(\"a is inside the circle\")\n",
    "        else:\n",
    "            print(\"a is outside the circle\")\n",
    "\n",
    "my_circle=Circle(0,0,3)\n",
    "area=my_circle.area()\n",
    "perimeter=my_circle.perimeter()\n",
    "print(f\"area = {area} and perimeter ={perimeter}\")\n",
    "my_circle.Inside(3,0)"
   ]
  },
  {
   "cell_type": "code",
   "execution_count": 22,
   "id": "05c15ad6",
   "metadata": {},
   "outputs": [
    {
     "name": "stdout",
     "output_type": "stream",
     "text": [
      "balance = 3000\n"
     ]
    }
   ],
   "source": [
    "#question 4\n",
    "class Bank:\n",
    "    def __init__(self,balance):\n",
    "        self.balance=balance\n",
    "        print(f\"balance = {balance}\")\n",
    "    def deposit(self,x):\n",
    "        self.balance+=x\n",
    "        print(\"deposit successfull\")\n",
    "        print(f\"balance after deposit = {self.balance}\")\n",
    "    def withdraw(self,amount):\n",
    "        if self.balance<amount:\n",
    "            print(\"amount is too large\")\n",
    "        else:\n",
    "            self.balance-=amount\n",
    "            print(\"withdraw successfull\")\n",
    "            print(f\"balance after withdraw ={self.balance}\")\n",
    "my_bank=Bank(3000)\n",
    "string=input(\"would you like to do a transaction ?\")\n",
    "while string.lower()==\"yes\":\n",
    "    print(\"would you like to deposit or withdraw ?\")\n",
    "    x=input(\"answer =\")\n",
    "    while x.lower()!=\"deposit\" and x.lower()!=\"withdraw\":\n",
    "        x=input(\"try again =\")\n",
    "    if x==\"deposit\":\n",
    "        x=int(input(\"how much would you like to deposit\"))\n",
    "        my_bank.deposit(x)\n",
    "    else:\n",
    "        x=int(input(\"how much would you like to withdraw\"))\n",
    "        my_bank.withdraw(x)\n",
    "    string=input(\"would you like to do a transaction ?\")"
   ]
  }
 ],
 "metadata": {
  "kernelspec": {
   "display_name": "Python 3 (ipykernel)",
   "language": "python",
   "name": "python3"
  },
  "language_info": {
   "codemirror_mode": {
    "name": "ipython",
    "version": 3
   },
   "file_extension": ".py",
   "mimetype": "text/x-python",
   "name": "python",
   "nbconvert_exporter": "python",
   "pygments_lexer": "ipython3",
   "version": "3.10.9"
  }
 },
 "nbformat": 4,
 "nbformat_minor": 5
}

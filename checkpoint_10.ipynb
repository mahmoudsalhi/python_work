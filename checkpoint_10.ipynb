{
 "cells": [
  {
   "cell_type": "code",
   "execution_count": null,
   "metadata": {},
   "outputs": [],
   "source": [
    "mylist=[14, \"hello\", 967]\n",
    "mylist[6]\n",
    "# IndexError \n",
    "# you only have 3 elements in my_list \n",
    "# you can't do mylist[6]  \n",
    "# the maximum you can do is mylist[len(mylist)-1] \n",
    "# or if you want to can add more elements "
   ]
  },
  {
   "cell_type": "code",
   "execution_count": null,
   "metadata": {},
   "outputs": [],
   "source": [
    "import Pandas\n",
    "import NumPy\n",
    "# ModuleNotFoundError\n",
    "# you can correct this by replacing Pandas with pandas and NumPy by numpy"
   ]
  },
  {
   "cell_type": "code",
   "execution_count": null,
   "metadata": {},
   "outputs": [],
   "source": [
    "Print\"python errors\"\n",
    "# SyntaxError\n",
    "# you forgot the () \n",
    "# the correct one is \n",
    "print(\"python_errors\")"
   ]
  },
  {
   "cell_type": "code",
   "execution_count": null,
   "metadata": {},
   "outputs": [],
   "source": [
    "mydictionnary={True:\"hello\",False:\"bye\", '3':\"python\"}\n",
    "mydictionnary['True']\n",
    "# KeyError\n",
    "# True is a booleen not string \n",
    "# the correct one is :\n",
    "mydictionnary[True]"
   ]
  },
  {
   "cell_type": "code",
   "execution_count": null,
   "metadata": {},
   "outputs": [],
   "source": [
    "i=14\n",
    "while i<78:\n",
    "print(i)\n",
    "i+=1\n",
    "# IndentationError aa\n",
    "# you forgot the indentation in print(i) \n",
    "# the correct one is :\n",
    "while i<78:\n",
    "    print(i)\n",
    "# but if you leave it like this it will be infinite loop \n",
    "# so you must increment i value but putting i+=1 inside the while loop not outside \n",
    "# it if its outside the loop , it will only increment by 1 one time"
   ]
  },
  {
   "cell_type": "code",
   "execution_count": null,
   "metadata": {},
   "outputs": [],
   "source": [
    "\n",
    "it=iter([1,2,3])\n",
    "next(it)\n",
    "next(it)\n",
    "next(it)\n",
    "next(it)\n",
    "# StopIteration \n",
    "# you used next() function 4 time but you only got 3 items in your array \n",
    "#the max you can do is using next() 3 times or correct it by adding another item in your array "
   ]
  },
  {
   "cell_type": "code",
   "execution_count": null,
   "metadata": {},
   "outputs": [],
   "source": [
    "'15'+15\n",
    "# TypeError \n",
    "# you cant add string with int \n",
    "#the correct ones are :\n",
    "15+15\n",
    "'15'+'15'\n",
    "'15'+str(15)\n",
    "int('15')+15"
   ]
  },
  {
   "cell_type": "code",
   "execution_count": null,
   "metadata": {},
   "outputs": [],
   "source": [
    "int('python')\n",
    "# ValueError\n",
    "#python is a word , you cant convert it to an integer "
   ]
  },
  {
   "cell_type": "code",
   "execution_count": null,
   "metadata": {},
   "outputs": [],
   "source": [
    "python\n",
    "# NameError\n",
    "# so basically python is not defined , the program doesn't know it "
   ]
  },
  {
   "cell_type": "code",
   "execution_count": null,
   "metadata": {},
   "outputs": [],
   "source": [
    "x=19/0\n",
    "# ZeroDivisionError\n",
    "# basically you cant divide a number by zero"
   ]
  }
 ],
 "metadata": {
  "kernelspec": {
   "display_name": "Python 3",
   "language": "python",
   "name": "python3"
  },
  "language_info": {
   "codemirror_mode": {
    "name": "ipython",
    "version": 3
   },
   "file_extension": ".py",
   "mimetype": "text/x-python",
   "name": "python",
   "nbconvert_exporter": "python",
   "pygments_lexer": "ipython3",
   "version": "3.11.4"
  },
  "orig_nbformat": 4
 },
 "nbformat": 4,
 "nbformat_minor": 2
}

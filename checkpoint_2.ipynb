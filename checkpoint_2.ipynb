{
 "cells": [
  {
   "cell_type": "code",
   "execution_count": 2,
   "id": "14495474",
   "metadata": {},
   "outputs": [
    {
     "name": "stdout",
     "output_type": "stream",
     "text": [
      "type x3\n",
      "do you want to stop\n",
      "answer = ?no\n",
      "type x2\n",
      "do you want to stop\n",
      "answer = ?yes\n",
      "6\n"
     ]
    }
   ],
   "source": [
    "#question 1\n",
    "l=[]\n",
    "w=True\n",
    "s=1\n",
    "while w:\n",
    "    x=int(input(\"type x\"))\n",
    "    l.append(x)\n",
    "    s=s*x\n",
    "    print(\"do you want to stop\")\n",
    "    answer=input(\"answer = ?\")\n",
    "    if answer==\"yes\" or answer==\"YES\":\n",
    "        w=False\n",
    "print(s)"
   ]
  },
  {
   "cell_type": "code",
   "execution_count": 2,
   "id": "ee20ad68",
   "metadata": {},
   "outputs": [
    {
     "name": "stdout",
     "output_type": "stream",
     "text": [
      "[(2, 1), (1, 2), (2, 3), (4, 4), (2, 5)]\n"
     ]
    }
   ],
   "source": [
    "#question 2\n",
    "def tuple_end(tup):\n",
    "    return tup[-1]\n",
    "\n",
    "l=[(2, 5), (1, 2), (4, 4), (2, 3), (2, 1)]\n",
    "l.sort(key=tuple_end)\n",
    "print(l)"
   ]
  },
  {
   "cell_type": "code",
   "execution_count": 1,
   "id": "bfb49e9e",
   "metadata": {},
   "outputs": [
    {
     "name": "stdout",
     "output_type": "stream",
     "text": [
      "{'a': 400, 'b': 400, 'c': 300, 'd': 400}\n"
     ]
    }
   ],
   "source": [
    "#question 3\n",
    "d1 = {'a': 100, 'b': 200, 'c':300}\n",
    "d2 = {'a': 300, 'b': 200, 'd':400}\n",
    "d3 = {}\n",
    "for key, value in d1.items():\n",
    "    d3[key] = value\n",
    "for key, value in d2.items():\n",
    "    if key in d3:\n",
    "        d3[key] += value\n",
    "    else:\n",
    "        d3[key] = value\n",
    "print(d3)"
   ]
  },
  {
   "cell_type": "code",
   "execution_count": 3,
   "id": "8b1efbf1",
   "metadata": {},
   "outputs": [
    {
     "name": "stdout",
     "output_type": "stream",
     "text": [
      "{1: 1, 2: 4, 3: 9, 4: 16, 5: 25, 6: 36, 7: 49, 8: 64}\n"
     ]
    }
   ],
   "source": [
    "#question 4\n",
    "e={}\n",
    "for i in range(1, 9):\n",
    "    e[i] = i*i\n",
    "print(e)"
   ]
  },
  {
   "cell_type": "code",
   "execution_count": 1,
   "id": "43070641",
   "metadata": {},
   "outputs": [
    {
     "name": "stdout",
     "output_type": "stream",
     "text": [
      "[('item3', '24.5'), ('item2', '15.10'), ('item1', '12.20')]\n"
     ]
    }
   ],
   "source": [
    "#question 5\n",
    "list= [('item1', '12.20'), ('item2', '15.10'), ('item3', '24.5')]\n",
    "sort=sorted(list, key=lambda x: float(x[1]), reverse=True)\n",
    "print(sort)"
   ]
  },
  {
   "cell_type": "code",
   "execution_count": 2,
   "id": "fbe4e37d",
   "metadata": {},
   "outputs": [
    {
     "name": "stdout",
     "output_type": "stream",
     "text": [
      "{0, 1, 2, 3, 4}\n",
      "0\n",
      "1\n",
      "2\n",
      "3\n",
      "4\n",
      "{0, 1, 2, 3, 4, 5}\n",
      "{0, 1, 3, 4, 5}\n"
     ]
    }
   ],
   "source": [
    "#question 6\n",
    "set={0,1,2,3,4}\n",
    "print(set)\n",
    "for item in set:\n",
    "    print(item)\n",
    "set.add(5)\n",
    "print(set)\n",
    "set.remove(2)\n",
    "print(set)"
   ]
  }
 ],
 "metadata": {
  "kernelspec": {
   "display_name": "Python 3 (ipykernel)",
   "language": "python",
   "name": "python3"
  },
  "language_info": {
   "codemirror_mode": {
    "name": "ipython",
    "version": 3
   },
   "file_extension": ".py",
   "mimetype": "text/x-python",
   "name": "python",
   "nbconvert_exporter": "python",
   "pygments_lexer": "ipython3",
   "version": "3.10.9"
  }
 },
 "nbformat": 4,
 "nbformat_minor": 5
}

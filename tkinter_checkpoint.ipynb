{
 "cells": [
  {
   "cell_type": "code",
   "execution_count": 65,
   "metadata": {},
   "outputs": [],
   "source": [
    "import tkinter as tk"
   ]
  },
  {
   "cell_type": "code",
   "execution_count": 66,
   "id": "b9276bb8",
   "metadata": {},
   "outputs": [],
   "source": [
    "def fahrenheit_to_celsius():\n",
    "    fern=float(ent_temperature.get())\n",
    "    celsius=(fern-32)*5/9\n",
    "    return lbl_result.config(text=f\"{round(celsius,2)}\\N{DEGREE CELSIUS}\")\n"
   ]
  },
  {
   "cell_type": "code",
   "execution_count": 67,
   "id": "cd475088",
   "metadata": {},
   "outputs": [
    {
     "data": {
      "text/plain": [
       "''"
      ]
     },
     "execution_count": 67,
     "metadata": {},
     "output_type": "execute_result"
    }
   ],
   "source": [
    "window = tk.Tk()\n",
    "window.title(\"Temperature Converter\")"
   ]
  },
  {
   "cell_type": "code",
   "execution_count": 68,
   "id": "e95db046",
   "metadata": {},
   "outputs": [
    {
     "data": {
      "text/plain": [
       "''"
      ]
     },
     "execution_count": 68,
     "metadata": {},
     "output_type": "execute_result"
    }
   ],
   "source": [
    "window.resizable(width=False, height=False)"
   ]
  },
  {
   "cell_type": "code",
   "execution_count": 69,
   "id": "d40dc6d8",
   "metadata": {},
   "outputs": [],
   "source": [
    "frm_entry = tk.Frame(master=window)"
   ]
  },
  {
   "cell_type": "code",
   "execution_count": 70,
   "id": "5f633f5d",
   "metadata": {},
   "outputs": [],
   "source": [
    "ent_temperature = tk.Entry(master=frm_entry, width=10) "
   ]
  },
  {
   "cell_type": "code",
   "execution_count": 71,
   "id": "7786f51c",
   "metadata": {},
   "outputs": [],
   "source": [
    "lbl_temp = tk.Label(master=frm_entry, text=\"\\N{DEGREE FAHRENHEIT}\")"
   ]
  },
  {
   "cell_type": "code",
   "execution_count": 72,
   "id": "1b0ac1ab",
   "metadata": {},
   "outputs": [],
   "source": [
    "ent_temperature.grid(row=0, column=0, sticky=\"e\")\n",
    "lbl_temp.grid(row=0, column=1, sticky=\"w\")"
   ]
  },
  {
   "cell_type": "code",
   "execution_count": 73,
   "id": "76995bfb",
   "metadata": {},
   "outputs": [],
   "source": [
    "btn_convert = tk.Button(master=window, text=\"\\N{RIGHTWARDS BLACK ARROW}\", command=fahrenheit_to_celsius)"
   ]
  },
  {
   "cell_type": "code",
   "execution_count": 74,
   "id": "b09b4f6c",
   "metadata": {},
   "outputs": [],
   "source": [
    "lbl_result = tk.Label(master=window, text=\"\\N{DEGREE CELSIUS}\")"
   ]
  },
  {
   "cell_type": "code",
   "execution_count": 75,
   "id": "9104d14b",
   "metadata": {},
   "outputs": [],
   "source": [
    "frm_entry.grid(row=0, column=0, padx=10)\n",
    "btn_convert.grid(row=0, column=1, pady=10)\n",
    "lbl_result.grid(row=0, column=2, padx=10)"
   ]
  },
  {
   "cell_type": "code",
   "execution_count": 76,
   "id": "da2699fe",
   "metadata": {},
   "outputs": [],
   "source": [
    "window.mainloop()"
   ]
  }
 ],
 "metadata": {
  "kernelspec": {
   "display_name": "Python 3",
   "language": "python",
   "name": "python3"
  },
  "language_info": {
   "codemirror_mode": {
    "name": "ipython",
    "version": 3
   },
   "file_extension": ".py",
   "mimetype": "text/x-python",
   "name": "python",
   "nbconvert_exporter": "python",
   "pygments_lexer": "ipython3",
   "version": "3.11.4"
  }
 },
 "nbformat": 4,
 "nbformat_minor": 5
}

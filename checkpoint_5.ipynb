{
 "cells": [
  {
   "cell_type": "code",
   "execution_count": 3,
   "id": "c1432e3d",
   "metadata": {},
   "outputs": [],
   "source": [
    "#question 1\n",
    "import numpy as np"
   ]
  },
  {
   "cell_type": "code",
   "execution_count": 4,
   "id": "92fd1f16",
   "metadata": {},
   "outputs": [
    {
     "name": "stdout",
     "output_type": "stream",
     "text": [
      "type students number : 3\n",
      "type subjects number : 2\n"
     ]
    }
   ],
   "source": [
    "#question 2\n",
    "nbstu=int(input(\"type students number : \"))\n",
    "while nbstu<0:\n",
    "    nbstu=int(input(\"check type : \"))\n",
    "nbsub=int(input(\"type subjects number : \"))\n",
    "while nbsub<0:\n",
    "    nbstu=int(input(\"check type : \"))"
   ]
  },
  {
   "cell_type": "code",
   "execution_count": 6,
   "id": "2e1ee6d2",
   "metadata": {},
   "outputs": [
    {
     "name": "stdout",
     "output_type": "stream",
     "text": [
      "type student mark number 1 and subject number190\n",
      "type student mark number 1 and subject number280\n",
      "type student mark number 2 and subject number1100\n",
      "type student mark number 2 and subject number250\n",
      "type student mark number 3 and subject number140\n",
      "type student mark number 3 and subject number270\n"
     ]
    }
   ],
   "source": [
    "#question 3 /4\n",
    "t=np.random.random((nbstu,nbsub))\n",
    "for i in range(nbstu):\n",
    "    for j in range(nbsub):\n",
    "        t[i][j]=float(input(f\"type student mark number {i+1} and subject number{j+1}\"))"
   ]
  },
  {
   "cell_type": "code",
   "execution_count": 7,
   "id": "d860f5fb",
   "metadata": {},
   "outputs": [
    {
     "name": "stdout",
     "output_type": "stream",
     "text": [
      "totalmarks =[170. 150. 110.]\n"
     ]
    }
   ],
   "source": [
    "#question 5\n",
    "totalmarks=np.sum(t,axis=1)\n",
    "print(f\"totalmarks ={totalmarks}\")"
   ]
  },
  {
   "cell_type": "code",
   "execution_count": 9,
   "id": "56faa114",
   "metadata": {},
   "outputs": [
    {
     "name": "stdout",
     "output_type": "stream",
     "text": [
      "[85.0, 75.0, 55.00000000000001]\n"
     ]
    }
   ],
   "source": [
    "#question 6\n",
    "liste=[]\n",
    "for mark in totalmarks:\n",
    "    percentage=(mark / (nbsub * 100)) *100\n",
    "    liste.append(percentage)\n",
    "print(liste)"
   ]
  },
  {
   "cell_type": "code",
   "execution_count": 13,
   "id": "f9e06da7",
   "metadata": {},
   "outputs": [
    {
     "name": "stdout",
     "output_type": "stream",
     "text": [
      "['A', 'B+', 'C']\n"
     ]
    }
   ],
   "source": [
    "#question 7\n",
    "grade=[]\n",
    "for percent in liste:\n",
    "    if percent>=90.0:\n",
    "        grade.append(\"A+\")\n",
    "    elif percent>=80.0:\n",
    "        grade.append(\"A\")\n",
    "    elif percent>=70.0:\n",
    "        grade.append(\"B+\")\n",
    "    elif percent>=60.0:\n",
    "        grade.append(\"B\")\n",
    "    elif percent>=50.0:\n",
    "        grade.append(\"C\")\n",
    "    else:\n",
    "        grade.append(\"F\")\n",
    "print(grade)"
   ]
  },
  {
   "cell_type": "code",
   "execution_count": 16,
   "id": "0e32c9e9",
   "metadata": {},
   "outputs": [
    {
     "name": "stdout",
     "output_type": "stream",
     "text": [
      "Student\t\tTotal Marks\tPercentage\tGrade\n",
      "--------------------------------------------------\n",
      "Student 1\t170.0\t\t85.00\t\tA\n",
      "Student 2\t150.0\t\t75.00\t\tB+\n",
      "Student 3\t110.0\t\t55.00\t\tC\n"
     ]
    }
   ],
   "source": [
    "#question 8\n",
    "print(\"Student\\t\\tTotal Marks\\tPercentage\\tGrade\")\n",
    "print(\"--------------------------------------------------\")\n",
    "for i in range(nbstu):\n",
    "    print(f\"Student {i+1}\\t{totalmarks[i]}\\t\\t{liste[i]:.2f}\\t\\t{grade[i]}\")\n"
   ]
  }
 ],
 "metadata": {
  "kernelspec": {
   "display_name": "Python 3 (ipykernel)",
   "language": "python",
   "name": "python3"
  },
  "language_info": {
   "codemirror_mode": {
    "name": "ipython",
    "version": 3
   },
   "file_extension": ".py",
   "mimetype": "text/x-python",
   "name": "python",
   "nbconvert_exporter": "python",
   "pygments_lexer": "ipython3",
   "version": "3.10.9"
  }
 },
 "nbformat": 4,
 "nbformat_minor": 5
}

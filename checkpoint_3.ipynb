{
 "cells": [
  {
   "cell_type": "code",
   "execution_count": 3,
   "id": "c5c20438",
   "metadata": {},
   "outputs": [
    {
     "name": "stdout",
     "output_type": "stream",
     "text": [
      "enter and operator : + - * /\n",
      "4.0\n"
     ]
    }
   ],
   "source": [
    "def calculator(num1,num2):\n",
    "    print(\"enter and operator : + - * /\")\n",
    "    x=input(\" answer :  \")\n",
    "    if x == '+':\n",
    "        y = num1 + num2\n",
    "    elif x == '-':\n",
    "        y = num1 - num2\n",
    "    elif x == '*':\n",
    "        y = num1 * num2\n",
    "    elif x == '/':\n",
    "        if num2 != 0:\n",
    "            y = num1 / num2\n",
    "        else:\n",
    "            print(\"Error: division by zero is not allowed.\")\n",
    "    else:\n",
    "        print(\"Error: invalid operator\")\n",
    "\n",
    "    return  y\n",
    "\n",
    "num1=float(input(\"Enter the first number: \"))\n",
    "num2=float(input(\"Enter the second number: \"))\n",
    "\n",
    "y=calculator(num1,num2)\n",
    "print(y)"
   ]
  }
 ],
 "metadata": {
  "kernelspec": {
   "display_name": "Python 3 (ipykernel)",
   "language": "python",
   "name": "python3"
  },
  "language_info": {
   "codemirror_mode": {
    "name": "ipython",
    "version": 3
   },
   "file_extension": ".py",
   "mimetype": "text/x-python",
   "name": "python",
   "nbconvert_exporter": "python",
   "pygments_lexer": "ipython3",
   "version": "3.11.4"
  }
 },
 "nbformat": 4,
 "nbformat_minor": 5
}

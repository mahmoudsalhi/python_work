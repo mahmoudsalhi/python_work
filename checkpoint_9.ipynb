{
 "cells": [
  {
   "cell_type": "code",
   "execution_count": 9,
   "metadata": {},
   "outputs": [
    {
     "name": "stdout",
     "output_type": "stream",
     "text": [
      "True\n",
      "False\n"
     ]
    }
   ],
   "source": [
    "#Write a Python program for a binary search\n",
    "def binary_search(liste,x):\n",
    "    begin_index=0\n",
    "    end_index=len(liste)-1\n",
    "    while begin_index<=end_index:\n",
    "        midpoint=begin_index+(end_index-begin_index)//2\n",
    "        midpoint_value=liste[midpoint]\n",
    "        if midpoint_value == x:\n",
    "            return True\n",
    "        elif x<midpoint_value:\n",
    "            end_index=midpoint-1 \n",
    "        else:\n",
    "            begin_index=midpoint+1\n",
    "    return False\n",
    "\n",
    "liste=[1,2,3,5,8]\n",
    "print(binary_search(liste,3))\n",
    "print(binary_search(liste,6))"
   ]
  },
  {
   "cell_type": "code",
   "execution_count": 24,
   "metadata": {},
   "outputs": [
    {
     "name": "stdout",
     "output_type": "stream",
     "text": [
      "81\n"
     ]
    }
   ],
   "source": [
    "#   2. Write a Python program to calculate the value of 'a' to the power 'b'\n",
    "def power(x,y):\n",
    "    return pow(x,y)\n",
    "print(power(3,4))"
   ]
  },
  {
   "cell_type": "code",
   "execution_count": 17,
   "metadata": {},
   "outputs": [
    {
     "name": "stdout",
     "output_type": "stream",
     "text": [
      "[13, 22, 29, 37, 49, 46, 52, 56, 71]\n"
     ]
    }
   ],
   "source": [
    "# 3. Write a Python program to sort a list of elements using the bubble sort algorithm\n",
    "def bubble_sort(liste):\n",
    "  n=len(liste)\n",
    "  permute=False\n",
    "  while permute is False:\n",
    "    for i in range(n-1):\n",
    "      if liste[i]>liste[i+1]:\n",
    "        aux=liste[i]\n",
    "        liste[i]=liste[i+1]\n",
    "        liste[i+1]=aux\n",
    "        permute=True\n",
    "  return liste\n",
    "\n",
    "liste=[29,13,22,37,52,49,46,71,56]\n",
    "bubble_sort(liste)\n",
    "print(liste)"
   ]
  },
  {
   "cell_type": "code",
   "execution_count": 29,
   "metadata": {},
   "outputs": [
    {
     "name": "stdout",
     "output_type": "stream",
     "text": [
      "[13, 22, 29, 37, 46, 49, 52, 56, 71]\n"
     ]
    }
   ],
   "source": [
    "# 4. Write a Python program to sort a list of elements using the merge sort algorithm\n",
    "def merge_sort(liste):\n",
    "    if len(liste) > 1:\n",
    "        r = len(liste)//2\n",
    "        L = liste[:r]\n",
    "        M = liste[r:]\n",
    "\n",
    "        merge_sort(L)\n",
    "        merge_sort(M)\n",
    "\n",
    "        i = j = k = 0\n",
    "\n",
    "        while i < len(L) and j < len(M):\n",
    "            if L[i] < M[j]:\n",
    "                liste[k] = L[i]\n",
    "                i += 1\n",
    "            else:\n",
    "                liste[k] = M[j]\n",
    "                j += 1\n",
    "            k += 1\n",
    "\n",
    "        while i < len(L):\n",
    "            liste[k] = L[i]\n",
    "            i += 1\n",
    "            k += 1\n",
    "\n",
    "        while j < len(M):\n",
    "            liste[k] = M[j]\n",
    "            j += 1\n",
    "            k += 1\n",
    "\n",
    "liste=[29,13,22,37,52,49,46,71,56]\n",
    "merge_sort(liste)\n",
    "print(liste)\n"
   ]
  },
  {
   "cell_type": "code",
   "execution_count": 28,
   "metadata": {},
   "outputs": [
    {
     "name": "stdout",
     "output_type": "stream",
     "text": [
      "[13, 22, 29, 37, 46, 49, 52, 56, 71]\n"
     ]
    }
   ],
   "source": [
    "# 5. Write a Python program to sort a list of elements using the quick sort algorithm.\n",
    "def partition(liste, low, high):\n",
    "  pivot = liste[high]\n",
    "  i = low - 1\n",
    "  for j in range(low, high):\n",
    "    if liste[j] <= pivot:\n",
    "      i = i + 1\n",
    "      (liste[i], liste[j]) = (liste[j], liste[i])\n",
    "\n",
    "  (liste[i + 1], liste[high]) = (liste[high], liste[i + 1])\n",
    "\n",
    "  return i + 1\n",
    "\n",
    "\n",
    "def quickSort(liste, low, high):\n",
    "  if low < high:\n",
    "    pi = partition(liste, low, high)\n",
    "    quickSort(liste, low, pi - 1)\n",
    "    quickSort(liste, pi + 1, high)\n",
    "\n",
    "\n",
    "liste = [29,13,22,37,52,49,46,71,56]\n",
    "\n",
    "n = len(liste)\n",
    "\n",
    "quickSort(liste ,0, n - 1)\n",
    "print(liste)"
   ]
  }
 ],
 "metadata": {
  "kernelspec": {
   "display_name": "Python 3",
   "language": "python",
   "name": "python3"
  },
  "language_info": {
   "codemirror_mode": {
    "name": "ipython",
    "version": 3
   },
   "file_extension": ".py",
   "mimetype": "text/x-python",
   "name": "python",
   "nbconvert_exporter": "python",
   "pygments_lexer": "ipython3",
   "version": "3.11.4"
  },
  "orig_nbformat": 4
 },
 "nbformat": 4,
 "nbformat_minor": 2
}
